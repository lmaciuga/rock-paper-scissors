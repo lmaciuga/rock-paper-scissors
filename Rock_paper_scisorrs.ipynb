{
  "nbformat": 4,
  "nbformat_minor": 0,
  "metadata": {
    "colab": {
      "name": "Rock-paper-scisorrs.ipynb",
      "provenance": [],
      "collapsed_sections": [],
      "authorship_tag": "ABX9TyOq51437z9R5Unrq8H7yvPP",
      "include_colab_link": true
    },
    "kernelspec": {
      "name": "python3",
      "display_name": "Python 3"
    },
    "accelerator": "GPU"
  },
  "cells": [
    {
      "cell_type": "markdown",
      "metadata": {
        "id": "view-in-github",
        "colab_type": "text"
      },
      "source": [
        "<a href=\"https://colab.research.google.com/github/lmaciuga/rock-paper-scissors/blob/master/Rock_paper_scisorrs.ipynb\" target=\"_parent\"><img src=\"https://colab.research.google.com/assets/colab-badge.svg\" alt=\"Open In Colab\"/></a>"
      ]
    },
    {
      "cell_type": "markdown",
      "metadata": {
        "id": "58bwcATvAqir",
        "colab_type": "text"
      },
      "source": [
        "# Rock, paper, scissors deep learning"
      ]
    },
    {
      "cell_type": "markdown",
      "metadata": {
        "id": "e2BMOYZLA-m6",
        "colab_type": "text"
      },
      "source": [
        "#### Install libraries"
      ]
    },
    {
      "cell_type": "code",
      "metadata": {
        "id": "R5yjsGsQAw7I",
        "colab_type": "code",
        "colab": {}
      },
      "source": [
        "pip install -q tensorflow tensorflow-datasets"
      ],
      "execution_count": null,
      "outputs": []
    },
    {
      "cell_type": "markdown",
      "metadata": {
        "id": "TM8zBbcHBG0R",
        "colab_type": "text"
      },
      "source": [
        "#### Import libraries"
      ]
    },
    {
      "cell_type": "code",
      "metadata": {
        "id": "x4T4os0BBMSi",
        "colab_type": "code",
        "colab": {}
      },
      "source": [
        "import numpy as np\n",
        "import matplotlib.pyplot as plt\n",
        "import tensorflow as tf\n",
        "import tensorflow_datasets as tfds\n",
        "from tensorflow import keras"
      ],
      "execution_count": null,
      "outputs": []
    },
    {
      "cell_type": "markdown",
      "metadata": {
        "id": "b15U5fd_BiWb",
        "colab_type": "text"
      },
      "source": [
        "#### data set list"
      ]
    },
    {
      "cell_type": "code",
      "metadata": {
        "id": "PSIpxCcvBoct",
        "colab_type": "code",
        "colab": {
          "base_uri": "https://localhost:8080/",
          "height": 1000
        },
        "outputId": "76b73863-1402-4636-83a6-2adcc4fde784"
      },
      "source": [
        "tfds.list_builders()"
      ],
      "execution_count": null,
      "outputs": [
        {
          "output_type": "execute_result",
          "data": {
            "text/plain": [
              "['abstract_reasoning',\n",
              " 'aeslc',\n",
              " 'aflw2k3d',\n",
              " 'amazon_us_reviews',\n",
              " 'arc',\n",
              " 'bair_robot_pushing_small',\n",
              " 'beans',\n",
              " 'big_patent',\n",
              " 'bigearthnet',\n",
              " 'billsum',\n",
              " 'binarized_mnist',\n",
              " 'binary_alpha_digits',\n",
              " 'c4',\n",
              " 'caltech101',\n",
              " 'caltech_birds2010',\n",
              " 'caltech_birds2011',\n",
              " 'cars196',\n",
              " 'cassava',\n",
              " 'cats_vs_dogs',\n",
              " 'celeb_a',\n",
              " 'celeb_a_hq',\n",
              " 'cfq',\n",
              " 'chexpert',\n",
              " 'cifar10',\n",
              " 'cifar100',\n",
              " 'cifar10_1',\n",
              " 'cifar10_corrupted',\n",
              " 'citrus_leaves',\n",
              " 'cityscapes',\n",
              " 'civil_comments',\n",
              " 'clevr',\n",
              " 'cmaterdb',\n",
              " 'cnn_dailymail',\n",
              " 'coco',\n",
              " 'coil100',\n",
              " 'colorectal_histology',\n",
              " 'colorectal_histology_large',\n",
              " 'cos_e',\n",
              " 'curated_breast_imaging_ddsm',\n",
              " 'cycle_gan',\n",
              " 'deep_weeds',\n",
              " 'definite_pronoun_resolution',\n",
              " 'diabetic_retinopathy_detection',\n",
              " 'div2k',\n",
              " 'dmlab',\n",
              " 'downsampled_imagenet',\n",
              " 'dsprites',\n",
              " 'dtd',\n",
              " 'duke_ultrasound',\n",
              " 'dummy_dataset_shared_generator',\n",
              " 'dummy_mnist',\n",
              " 'emnist',\n",
              " 'eraser_multi_rc',\n",
              " 'esnli',\n",
              " 'eurosat',\n",
              " 'fashion_mnist',\n",
              " 'flic',\n",
              " 'flores',\n",
              " 'food101',\n",
              " 'gap',\n",
              " 'gigaword',\n",
              " 'glue',\n",
              " 'groove',\n",
              " 'higgs',\n",
              " 'horses_or_humans',\n",
              " 'i_naturalist2017',\n",
              " 'image_label_folder',\n",
              " 'imagenet2012',\n",
              " 'imagenet2012_corrupted',\n",
              " 'imagenet_resized',\n",
              " 'imagenette',\n",
              " 'imagewang',\n",
              " 'imdb_reviews',\n",
              " 'iris',\n",
              " 'kitti',\n",
              " 'kmnist',\n",
              " 'lfw',\n",
              " 'librispeech',\n",
              " 'librispeech_lm',\n",
              " 'libritts',\n",
              " 'lm1b',\n",
              " 'lost_and_found',\n",
              " 'lsun',\n",
              " 'malaria',\n",
              " 'math_dataset',\n",
              " 'mnist',\n",
              " 'mnist_corrupted',\n",
              " 'movie_rationales',\n",
              " 'moving_mnist',\n",
              " 'multi_news',\n",
              " 'multi_nli',\n",
              " 'multi_nli_mismatch',\n",
              " 'natural_questions',\n",
              " 'newsroom',\n",
              " 'nsynth',\n",
              " 'omniglot',\n",
              " 'open_images_v4',\n",
              " 'opinosis',\n",
              " 'oxford_flowers102',\n",
              " 'oxford_iiit_pet',\n",
              " 'para_crawl',\n",
              " 'patch_camelyon',\n",
              " 'pet_finder',\n",
              " 'places365_small',\n",
              " 'plant_leaves',\n",
              " 'plant_village',\n",
              " 'plantae_k',\n",
              " 'qa4mre',\n",
              " 'quickdraw_bitmap',\n",
              " 'reddit_tifu',\n",
              " 'resisc45',\n",
              " 'rock_paper_scissors',\n",
              " 'rock_you',\n",
              " 'scan',\n",
              " 'scene_parse150',\n",
              " 'scicite',\n",
              " 'scientific_papers',\n",
              " 'shapes3d',\n",
              " 'smallnorb',\n",
              " 'snli',\n",
              " 'so2sat',\n",
              " 'speech_commands',\n",
              " 'squad',\n",
              " 'stanford_dogs',\n",
              " 'stanford_online_products',\n",
              " 'starcraft_video',\n",
              " 'sun397',\n",
              " 'super_glue',\n",
              " 'svhn_cropped',\n",
              " 'ted_hrlr_translate',\n",
              " 'ted_multi_translate',\n",
              " 'tf_flowers',\n",
              " 'the300w_lp',\n",
              " 'tiny_shakespeare',\n",
              " 'titanic',\n",
              " 'trivia_qa',\n",
              " 'uc_merced',\n",
              " 'ucf101',\n",
              " 'vgg_face2',\n",
              " 'visual_domain_decathlon',\n",
              " 'voc',\n",
              " 'wider_face',\n",
              " 'wikihow',\n",
              " 'wikipedia',\n",
              " 'wmt14_translate',\n",
              " 'wmt15_translate',\n",
              " 'wmt16_translate',\n",
              " 'wmt17_translate',\n",
              " 'wmt18_translate',\n",
              " 'wmt19_translate',\n",
              " 'wmt_t2t_translate',\n",
              " 'wmt_translate',\n",
              " 'xnli',\n",
              " 'xsum',\n",
              " 'yelp_polarity_reviews']"
            ]
          },
          "metadata": {
            "tags": []
          },
          "execution_count": 3
        }
      ]
    },
    {
      "cell_type": "markdown",
      "metadata": {
        "id": "80YcyRktCMKZ",
        "colab_type": "text"
      },
      "source": [
        ""
      ]
    },
    {
      "cell_type": "markdown",
      "metadata": {
        "id": "WdOBSt7ECUnd",
        "colab_type": "text"
      },
      "source": [
        "#### Dataset info"
      ]
    },
    {
      "cell_type": "code",
      "metadata": {
        "id": "XpRVzsimCV6R",
        "colab_type": "code",
        "colab": {}
      },
      "source": [
        "builder = tfds.builder('rock_paper_scissors')\n",
        "info = builder.info\n",
        "info"
      ],
      "execution_count": null,
      "outputs": []
    },
    {
      "cell_type": "markdown",
      "metadata": {
        "id": "mvt_Cz2rDIgb",
        "colab_type": "text"
      },
      "source": [
        "####Prepare data"
      ]
    },
    {
      "cell_type": "code",
      "metadata": {
        "id": "PguFouo4DJrY",
        "colab_type": "code",
        "colab": {}
      },
      "source": [
        "ds_train = tfds.load('rock_paper_scissors', split='train')\n",
        "ds_test = tfds.load('rock_paper_scissors', split='test')"
      ],
      "execution_count": null,
      "outputs": []
    },
    {
      "cell_type": "markdown",
      "metadata": {
        "id": "SmO9qrClD2B6",
        "colab_type": "text"
      },
      "source": [
        "#### Examples"
      ]
    },
    {
      "cell_type": "code",
      "metadata": {
        "id": "rVLjTFcfD3nv",
        "colab_type": "code",
        "colab": {}
      },
      "source": [
        "fig = tfds.show_examples(info, ds_train)"
      ],
      "execution_count": null,
      "outputs": []
    },
    {
      "cell_type": "markdown",
      "metadata": {
        "id": "51-N5tU3Eh5a",
        "colab_type": "text"
      },
      "source": [
        "#### Data preparation"
      ]
    },
    {
      "cell_type": "code",
      "metadata": {
        "id": "o0B7ZQZxEjbW",
        "colab_type": "code",
        "colab": {}
      },
      "source": [
        "train_images = np.array([image['image'].numpy()[:,:,0] for image in ds_train])\n",
        "train_labels = np.array([label['label'].numpy() for label in ds_train])\n",
        "\n",
        "test_images = np.array([image['image'].numpy()[:,:,0] for image in ds_test])\n",
        "test_labels = np.array([label['label'].numpy() for label in ds_test])"
      ],
      "execution_count": null,
      "outputs": []
    },
    {
      "cell_type": "code",
      "metadata": {
        "id": "JRDf_-PlE54d",
        "colab_type": "code",
        "colab": {}
      },
      "source": [
        "train_images = train_images.reshape(2520, 300, 300, 1).astype('float32')\n",
        "test_images = test_images.reshape(372, 300, 300, 1).astype('float32')\n",
        "\n",
        "train_images /= 255\n",
        "test_images /= 255"
      ],
      "execution_count": null,
      "outputs": []
    },
    {
      "cell_type": "markdown",
      "metadata": {
        "id": "0fW1Ro5NI06L",
        "colab_type": "text"
      },
      "source": [
        "#### Train network (basic approach)"
      ]
    },
    {
      "cell_type": "code",
      "metadata": {
        "id": "VwFL8UDPI2bj",
        "colab_type": "code",
        "colab": {}
      },
      "source": [
        "model = keras.Sequential([\n",
        "                          keras.layers.Flatten(),\n",
        "                          keras.layers.Dense(512, activation='relu'),\n",
        "                          keras.layers.Dense(256, activation='relu'),\n",
        "                          keras.layers.Dense(3, activation='softmax')\n",
        "])\n",
        "\n",
        "model.compile(optimizer='adam', loss=keras.losses.SparseCategoricalCrossentropy(), metrics=['accuracy'])\n",
        "\n",
        "model.fit(train_images, train_labels, epochs=5, batch_size=32)"
      ],
      "execution_count": null,
      "outputs": []
    },
    {
      "cell_type": "code",
      "metadata": {
        "id": "14Ds8LepzZ0F",
        "colab_type": "code",
        "colab": {}
      },
      "source": [
        "model.evaluate(test_images, test_labels)"
      ],
      "execution_count": null,
      "outputs": []
    },
    {
      "cell_type": "markdown",
      "metadata": {
        "id": "_EUCOPPT2Jw1",
        "colab_type": "text"
      },
      "source": [
        "####Train network (convolutional approach)"
      ]
    },
    {
      "cell_type": "code",
      "metadata": {
        "id": "l73ZXtxT2M9S",
        "colab_type": "code",
        "colab": {}
      },
      "source": [
        "model = keras.Sequential([\n",
        "                          keras.layers.Conv2D(64, 3, activation='relu', input_shape=(300,300,1)),\n",
        "                          keras.layers.Conv2D(32, 3, activation='relu'),\n",
        "                          keras.layers.Flatten(),\n",
        "                          keras.layers.Dense(3, activation='softmax')\n",
        "])\n",
        "\n",
        "model.compile(optimizer='adam', loss=keras.losses.SparseCategoricalCrossentropy(), metrics=['accuracy'])\n",
        "\n",
        "model.fit(train_images, train_labels, epochs=5, batch_size=32)"
      ],
      "execution_count": null,
      "outputs": []
    },
    {
      "cell_type": "code",
      "metadata": {
        "id": "ga9Ua-D326bZ",
        "colab_type": "code",
        "colab": {}
      },
      "source": [
        "model.evaluate(test_images, test_labels)"
      ],
      "execution_count": null,
      "outputs": []
    },
    {
      "cell_type": "markdown",
      "metadata": {
        "id": "XF3ulIY-4hIG",
        "colab_type": "text"
      },
      "source": [
        "#### A better convolutional network"
      ]
    },
    {
      "cell_type": "code",
      "metadata": {
        "id": "9TX12XEG4jGI",
        "colab_type": "code",
        "colab": {}
      },
      "source": [
        "model = keras.Sequential([\n",
        "                          keras.layers.AveragePooling2D(6,3, input_shape=(300,300,1)),\n",
        "                          keras.layers.Conv2D(64, 3, activation='relu'),\n",
        "                          keras.layers.Conv2D(32, 3, activation='relu'),\n",
        "                          keras.layers.MaxPool2D(2,2),\n",
        "                          keras.layers.Dropout(0.5),\n",
        "                          keras.layers.Flatten(),\n",
        "                          keras.layers.Dense(128, activation='relu'),\n",
        "                          keras.layers.Dense(3, activation='softmax')\n",
        "])\n",
        "\n",
        "model.compile(optimizer='adam', loss=keras.losses.SparseCategoricalCrossentropy(), metrics=['accuracy'])\n",
        "\n",
        "model.fit(train_images, train_labels, epochs=5, batch_size=32)"
      ],
      "execution_count": null,
      "outputs": []
    },
    {
      "cell_type": "code",
      "metadata": {
        "id": "3P-k3f-s55eD",
        "colab_type": "code",
        "colab": {}
      },
      "source": [
        "model.evaluate(test_images, test_labels)"
      ],
      "execution_count": null,
      "outputs": []
    },
    {
      "cell_type": "markdown",
      "metadata": {
        "id": "EIcF27f2644_",
        "colab_type": "text"
      },
      "source": [
        "#### Hyperparameter turning"
      ]
    },
    {
      "cell_type": "code",
      "metadata": {
        "id": "K4SD-G_G66p3",
        "colab_type": "code",
        "colab": {}
      },
      "source": [
        "pip install keras-tuner"
      ],
      "execution_count": null,
      "outputs": []
    },
    {
      "cell_type": "code",
      "metadata": {
        "id": "Hm-cYEXlFanD",
        "colab_type": "code",
        "colab": {}
      },
      "source": [
        "from kerastuner.tuners import RandomSearch\n",
        "\n",
        "def build_model(hp):\n",
        "  model = keras.Sequential()\n",
        "\n",
        "  model.add(keras.layers.AveragePooling2D(6,3, input_shape=(300,300,1)))\n",
        "\n",
        "  for i in range(hp.Int('Conv layers', min_value=0, max_value=3)):\n",
        "    model.add(keras.layers.Conv2D(hp.Choice(f'layer_{i}_filters', [16, 32, 64]), 3, activation='relu'))\n",
        "  \n",
        "  model.add(keras.layers.MaxPool2D(2,2))\n",
        "  model.add(keras.layers.Dropout(0.5))\n",
        "  model.add(keras.layers.Flatten())\n",
        "  \n",
        "  model.add(keras.layers.Dense(hp.Choice('Dense layer', [64, 128, 256, 512, 1024]), activation='relu'))\n",
        "  \n",
        "  model.add(keras.layers.Dense(3, activation='softmax'))\n",
        "\n",
        "  model.compile(optimizer='adam', loss=keras.losses.SparseCategoricalCrossentropy(), metrics=['accuracy'])\n",
        "\n",
        "  return model\n",
        "\n",
        "tuner = RandomSearch(\n",
        "    build_model,\n",
        "    objective='val_accuracy',\n",
        "    max_trials=5)\n",
        "\n",
        "tuner.search(train_images, train_labels, validation_data=(test_images, test_labels), epochs=10, batch_size=32)"
      ],
      "execution_count": null,
      "outputs": []
    },
    {
      "cell_type": "code",
      "metadata": {
        "id": "Ad9VeizLGrBN",
        "colab_type": "code",
        "colab": {}
      },
      "source": [
        "best_model = tuner.get_best_models()[0]"
      ],
      "execution_count": null,
      "outputs": []
    },
    {
      "cell_type": "code",
      "metadata": {
        "id": "X0XvPad6Jc_Z",
        "colab_type": "code",
        "colab": {}
      },
      "source": [
        "best_model.evaluate(test_images, test_labels)"
      ],
      "execution_count": null,
      "outputs": []
    },
    {
      "cell_type": "code",
      "metadata": {
        "id": "HS8VYHRPPtit",
        "colab_type": "code",
        "colab": {}
      },
      "source": [
        "best_model.summary()"
      ],
      "execution_count": null,
      "outputs": []
    },
    {
      "cell_type": "code",
      "metadata": {
        "id": "9NO8HQs1PvYI",
        "colab_type": "code",
        "colab": {}
      },
      "source": [
        "tuner.results_summary()"
      ],
      "execution_count": null,
      "outputs": []
    },
    {
      "cell_type": "markdown",
      "metadata": {
        "id": "kkLmJu57TFT9",
        "colab_type": "text"
      },
      "source": [
        "#### Save & Load model"
      ]
    },
    {
      "cell_type": "code",
      "metadata": {
        "id": "sDHjkSDuTJOJ",
        "colab_type": "code",
        "colab": {}
      },
      "source": [
        "best_model.save('./my_model')"
      ],
      "execution_count": null,
      "outputs": []
    },
    {
      "cell_type": "code",
      "metadata": {
        "id": "mn7d7Q9ZTRrk",
        "colab_type": "code",
        "colab": {}
      },
      "source": [
        "loaded_model = keras.models.load_model('./my_model')"
      ],
      "execution_count": null,
      "outputs": []
    },
    {
      "cell_type": "code",
      "metadata": {
        "id": "jxSSILKJTY1x",
        "colab_type": "code",
        "colab": {}
      },
      "source": [
        "loaded_model.evaluate(test_images, test_labels)"
      ],
      "execution_count": null,
      "outputs": []
    },
    {
      "cell_type": "markdown",
      "metadata": {
        "id": "qCjBHBXHTfEU",
        "colab_type": "text"
      },
      "source": [
        "#### Plot image from numpy array"
      ]
    },
    {
      "cell_type": "code",
      "metadata": {
        "id": "Unc3Hf91T9MB",
        "colab_type": "code",
        "colab": {}
      },
      "source": [
        "train_images[0].shape"
      ],
      "execution_count": null,
      "outputs": []
    },
    {
      "cell_type": "code",
      "metadata": {
        "id": "xTUdrGS1T9Le",
        "colab_type": "code",
        "colab": {}
      },
      "source": [
        "image = train_images[0].reshape(300, 300)\n",
        "plt.imshow(image, cmap='Greys_r')"
      ],
      "execution_count": null,
      "outputs": []
    },
    {
      "cell_type": "markdown",
      "metadata": {
        "id": "g5ZCylcbUxjI",
        "colab_type": "text"
      },
      "source": [
        "#### Plot colored image"
      ]
    },
    {
      "cell_type": "code",
      "metadata": {
        "id": "ANmzHA9aUzYo",
        "colab_type": "code",
        "colab": {}
      },
      "source": [
        "rgb_images = np.array([example['image'].numpy() for example in ds_train.take(1)])\n",
        "rgb_image = rgb_images[0]\n",
        "\n",
        "plt.imshow(rgb_image)"
      ],
      "execution_count": null,
      "outputs": []
    },
    {
      "cell_type": "markdown",
      "metadata": {
        "id": "ArePSSJAVev1",
        "colab_type": "text"
      },
      "source": [
        "#### Convert PNG/JPG images to numpy"
      ]
    },
    {
      "cell_type": "code",
      "metadata": {
        "id": "8WhgqO2qVhfY",
        "colab_type": "code",
        "colab": {}
      },
      "source": [
        "import imageio\n",
        "\n",
        "image = imageio.imread('https://upload.wikimedia.org/wikipedia/commons/thumb/6/68/Persons_died_due_to_coronavirus_COVID-19_per_capita_in_Europe.svg/1280px-Persons_died_due_to_coronavirus_COVID-19_per_capita_in_Europe.svg.png')\n",
        "\n",
        "plt.imshow(image)\n",
        "\n",
        "image_np = np.asarray(image)\n",
        "type(image_np)\n",
        "image_np.shape"
      ],
      "execution_count": null,
      "outputs": []
    }
  ]
}